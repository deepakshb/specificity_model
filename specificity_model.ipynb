{
 "cells": [
  {
   "cell_type": "code",
   "execution_count": 1,
   "id": "8170b1fc",
   "metadata": {
    "executionInfo": {
     "elapsed": 1253,
     "status": "ok",
     "timestamp": 1652105180697,
     "user": {
      "displayName": "Deepak Rastogi",
      "userId": "00835676360645435652"
     },
     "user_tz": -120
    },
    "id": "8170b1fc"
   },
   "outputs": [],
   "source": [
    "from helpers.ExtractFeatures import ExtractFeatures,ReadFeatureFiles\n",
    "from sklearn.linear_model import LogisticRegression\n",
    "import numpy as np\n",
    "import pandas as pd\n",
    "from sklearn.model_selection import train_test_split\n",
    "from sklearn.model_selection import KFold\n",
    "from sklearn.model_selection import cross_val_score"
   ]
  },
  {
   "cell_type": "code",
   "execution_count": 2,
   "id": "6fb236b5",
   "metadata": {},
   "outputs": [],
   "source": [
    "class SpecificityModel:\n",
    "    def __init__(self):\n",
    "        self.df_pdtb = pd.read_csv('pdtb2.csv',low_memory=False)\n",
    "        self.df_patent = pd.read_csv('bigPatentData_csv/train.csv')\n",
    "    \n",
    "    def extract_features(self):\n",
    "        fe = ExtractFeatures(self.df_pdtb,self.df_patent)\n",
    "        fe.extract_features('i')\n",
    "        fe.extract_features('s')\n",
    "    \n",
    "    def read_features(self):\n",
    "        self.obj_read_feats = ReadFeatureFiles()\n",
    "        self.obj_read_feats.read_features()\n",
    "        \n",
    "    def train(self,sent_type='i',split_size=0.2):\n",
    "        if sent_type == 'i':\n",
    "            df_wo_labels = self.obj_read_feats.df_i[self.obj_read_feats.df_i.columns.drop('labels')]\n",
    "            self.in_feats = np.concatenate((df_wo_labels.values,self.obj_read_feats.wf_i),axis = 1)\n",
    "            self.y_true = self.obj_read_feats.df_i.labels.values\n",
    "            str_folder_name = 'instantiation'\n",
    "        elif sent_type == 's':\n",
    "            df_wo_labels = self.obj_read_feats.df_s[self.obj_read_feats.df_s.columns.drop('labels')]\n",
    "            self.in_feats = np.concatenate((df_wo_labels.values,self.obj_read_feats.wf_s),axis = 1)\n",
    "            self.y_true = self.obj_read_feats.df_s.labels.values\n",
    "            str_folder_name = 'specification'\n",
    "            \n",
    "        self.X_train, self.X_test, self.y_train, self.y_test = train_test_split(self.in_feats, self.y_true, test_size=split_size, random_state=5,shuffle=True)\n",
    "        self.clf = LogisticRegression(solver='liblinear')\n",
    "        self.clf.fit(np.asarray(self.X_train), np.asarray(self.y_train))\n",
    "        \n",
    "        \n",
    "        with open('models/'+str_folder_name+'/'+'specificity_model.pickle', 'wb') as handle:\n",
    "            pickle.dump(self.clf, handle, protocol=pickle.HIGHEST_PROTOCOL) \n",
    "        \n",
    "        \n",
    "        \n",
    "        \n",
    "    def predict(self):\n",
    "        y_pred = self.clf.predict_proba(np.asarray(self.X_test))\n",
    "        y_pred_int = np.argmax(1*(y_pred > 0.5),axis=1)\n",
    "        return y_pred_int\n",
    "    \n",
    "    def cross_val_scores(self,folds=10):\n",
    "        clf = LogisticRegression(solver='liblinear')\n",
    "        cv = KFold(n_splits=folds, random_state=1, shuffle=True)\n",
    "        scores = cross_val_score(clf, in_feats, y_true, scoring='accuracy', cv=cv, n_jobs=-1)\n",
    "        return scores\n",
    "    "
   ]
  },
  {
   "cell_type": "code",
   "execution_count": 3,
   "id": "f247a9cf",
   "metadata": {},
   "outputs": [],
   "source": [
    "a = SpecificityModel()"
   ]
  },
  {
   "cell_type": "code",
   "execution_count": 4,
   "id": "754c9ad8",
   "metadata": {},
   "outputs": [
    {
     "name": "stdout",
     "output_type": "stream",
     "text": [
      "Instantiation Features found!\n",
      "features/instantiation/necd_features.pickle\n",
      "features/instantiation/polarity_features.pickle\n",
      "features/instantiation/sentence_length_features.pickle\n",
      "features/instantiation/specificity_features.pickle\n",
      "features/instantiation/syntactic_features.pickle\n",
      "features/instantiation/lm_features.pickle\n",
      "Specification Features found!\n",
      "features/specification/necd_features.pickle\n",
      "features/specification/polarity_features.pickle\n",
      "features/specification/sentence_length_features.pickle\n",
      "features/specification/specificity_features.pickle\n",
      "features/specification/syntactic_features.pickle\n",
      "features/specification/lm_features.pickle\n"
     ]
    }
   ],
   "source": [
    "#a.extract_features()\n",
    "a.read_features()"
   ]
  },
  {
   "cell_type": "code",
   "execution_count": 7,
   "id": "522f98cb",
   "metadata": {},
   "outputs": [],
   "source": [
    "import pickle"
   ]
  },
  {
   "cell_type": "code",
   "execution_count": 8,
   "id": "e435be11",
   "metadata": {},
   "outputs": [],
   "source": [
    "a.train('i')"
   ]
  },
  {
   "cell_type": "code",
   "execution_count": null,
   "id": "f33afb43",
   "metadata": {},
   "outputs": [],
   "source": [
    "a.predict()"
   ]
  },
  {
   "cell_type": "code",
   "execution_count": null,
   "id": "c605a13a",
   "metadata": {},
   "outputs": [],
   "source": [
    "in_feats_i.shape"
   ]
  },
  {
   "cell_type": "code",
   "execution_count": null,
   "id": "a03aacb6",
   "metadata": {},
   "outputs": [],
   "source": [
    "\n",
    "#y_true_s = a.df_s.labels.values\n",
    "#y_true = np.concatenate((y_true_i,y_true_s[:1]),axis = 0)\n",
    "y_true_i"
   ]
  },
  {
   "cell_type": "code",
   "execution_count": null,
   "id": "c61a2ce6",
   "metadata": {},
   "outputs": [],
   "source": [
    "X_train, X_test, y_train, y_test = train_test_split(in_feats_i, y_true_i, test_size=0.2, random_state=5,shuffle=True)"
   ]
  },
  {
   "cell_type": "code",
   "execution_count": null,
   "id": "5d976d54",
   "metadata": {},
   "outputs": [],
   "source": [
    "X_train.shape"
   ]
  },
  {
   "cell_type": "code",
   "execution_count": null,
   "id": "5def23ee",
   "metadata": {},
   "outputs": [],
   "source": [
    "#scaler = StandardScaler()\n",
    "#X_train_scaled = scaler.fit_transform(np.asarray(X_train))\n",
    "clf = LogisticRegression(solver='liblinear')\n",
    "\n",
    "clf.fit(np.asarray(X_train), np.asarray(y_train))"
   ]
  },
  {
   "cell_type": "code",
   "execution_count": null,
   "id": "c6f92aa0",
   "metadata": {},
   "outputs": [],
   "source": []
  },
  {
   "cell_type": "code",
   "execution_count": null,
   "id": "38e7e7cb",
   "metadata": {},
   "outputs": [],
   "source": []
  },
  {
   "cell_type": "code",
   "execution_count": null,
   "id": "47b55422",
   "metadata": {},
   "outputs": [],
   "source": [
    "#X_test_scaled = scaler.transform(np.asarray(X_test))\n"
   ]
  },
  {
   "cell_type": "code",
   "execution_count": null,
   "id": "9bcf6174",
   "metadata": {},
   "outputs": [],
   "source": []
  },
  {
   "cell_type": "code",
   "execution_count": null,
   "id": "4d5dcdcc",
   "metadata": {},
   "outputs": [],
   "source": [
    "from sklearn.metrics import confusion_matrix,accuracy_score,precision_score,recall_score"
   ]
  },
  {
   "cell_type": "code",
   "execution_count": null,
   "id": "24b8ea9e",
   "metadata": {},
   "outputs": [],
   "source": [
    "tn, fp, fn, tp = confusion_matrix(y_test, y_pred_int).ravel()"
   ]
  },
  {
   "cell_type": "code",
   "execution_count": null,
   "id": "619e5a35",
   "metadata": {},
   "outputs": [],
   "source": [
    "(tp, fn, fp, tn)"
   ]
  },
  {
   "cell_type": "code",
   "execution_count": null,
   "id": "840673ac",
   "metadata": {},
   "outputs": [],
   "source": [
    "accuracy_score(y_test, y_pred_int)"
   ]
  },
  {
   "cell_type": "code",
   "execution_count": null,
   "id": "0554bfb5",
   "metadata": {},
   "outputs": [],
   "source": [
    "recall_score(y_test, y_pred_int)"
   ]
  },
  {
   "cell_type": "code",
   "execution_count": null,
   "id": "18749fee",
   "metadata": {},
   "outputs": [],
   "source": [
    "precision_score(y_test, y_pred_int)"
   ]
  },
  {
   "cell_type": "code",
   "execution_count": null,
   "id": "7e68e2b7",
   "metadata": {},
   "outputs": [],
   "source": [
    "X_test.shape"
   ]
  },
  {
   "cell_type": "code",
   "execution_count": null,
   "id": "685e72bc",
   "metadata": {},
   "outputs": [],
   "source": [
    "sum(scores)/len(scores)"
   ]
  },
  {
   "cell_type": "code",
   "execution_count": null,
   "id": "6f4b8b43",
   "metadata": {},
   "outputs": [],
   "source": [
    "scores"
   ]
  },
  {
   "cell_type": "code",
   "execution_count": null,
   "id": "3a7b5b05",
   "metadata": {},
   "outputs": [],
   "source": []
  },
  {
   "cell_type": "code",
   "execution_count": null,
   "id": "b8f483b4",
   "metadata": {},
   "outputs": [],
   "source": []
  },
  {
   "cell_type": "code",
   "execution_count": null,
   "id": "07bf55c6",
   "metadata": {},
   "outputs": [],
   "source": []
  },
  {
   "cell_type": "code",
   "execution_count": null,
   "id": "f5f8bad9",
   "metadata": {},
   "outputs": [],
   "source": []
  },
  {
   "cell_type": "code",
   "execution_count": null,
   "id": "78321be7",
   "metadata": {},
   "outputs": [],
   "source": []
  },
  {
   "cell_type": "code",
   "execution_count": null,
   "id": "2afe09c8",
   "metadata": {},
   "outputs": [],
   "source": [
    "'''\n",
    "Scores:\n",
    "1. All features, no standard scaling\n",
    "Accuracy:\n",
    "Precision:\n",
    "Recall:\n",
    "\n",
    "2. All features with standard scaling\n",
    "Accuracy:99.35\n",
    "Precision:99.62\n",
    "Recall:99.07\n",
    "\n",
    "3. Word features only, with standard scaling\n",
    "same as 2."
   ]
  },
  {
   "cell_type": "code",
   "execution_count": null,
   "id": "49363b15",
   "metadata": {},
   "outputs": [],
   "source": []
  },
  {
   "cell_type": "code",
   "execution_count": null,
   "id": "9bec205e",
   "metadata": {},
   "outputs": [],
   "source": []
  },
  {
   "cell_type": "code",
   "execution_count": null,
   "id": "a43ed80c",
   "metadata": {},
   "outputs": [],
   "source": []
  },
  {
   "cell_type": "code",
   "execution_count": 1,
   "id": "a79eb353",
   "metadata": {},
   "outputs": [],
   "source": [
    "import pandas as pd"
   ]
  },
  {
   "cell_type": "code",
   "execution_count": 2,
   "id": "ef796e90",
   "metadata": {},
   "outputs": [],
   "source": [
    "df_pdtb = pd.read_csv('pdtb2.csv',low_memory=False)"
   ]
  },
  {
   "cell_type": "code",
   "execution_count": 3,
   "id": "7491b22e",
   "metadata": {},
   "outputs": [],
   "source": [
    "implicit_rel = df_pdtb[df_pdtb['Relation']=='Implicit']"
   ]
  },
  {
   "cell_type": "code",
   "execution_count": null,
   "id": "b6165423",
   "metadata": {},
   "outputs": [],
   "source": [
    "implicit_rel[implicit_rel[]]"
   ]
  },
  {
   "cell_type": "code",
   "execution_count": 8,
   "id": "76135f3d",
   "metadata": {},
   "outputs": [
    {
     "data": {
      "text/html": [
       "<div>\n",
       "<style scoped>\n",
       "    .dataframe tbody tr th:only-of-type {\n",
       "        vertical-align: middle;\n",
       "    }\n",
       "\n",
       "    .dataframe tbody tr th {\n",
       "        vertical-align: top;\n",
       "    }\n",
       "\n",
       "    .dataframe thead th {\n",
       "        text-align: right;\n",
       "    }\n",
       "</style>\n",
       "<table border=\"1\" class=\"dataframe\">\n",
       "  <thead>\n",
       "    <tr style=\"text-align: right;\">\n",
       "      <th></th>\n",
       "      <th>Relation</th>\n",
       "      <th>ConnHeadSemClass1</th>\n",
       "      <th>ConnHeadSemClass2</th>\n",
       "      <th>FullRawText</th>\n",
       "    </tr>\n",
       "  </thead>\n",
       "  <tbody>\n",
       "    <tr>\n",
       "      <th>29</th>\n",
       "      <td>Implicit</td>\n",
       "      <td>Expansion.Instantiation</td>\n",
       "      <td>NaN</td>\n",
       "      <td>Despite recent declines in yields, investors c...</td>\n",
       "    </tr>\n",
       "    <tr>\n",
       "      <th>31</th>\n",
       "      <td>Implicit</td>\n",
       "      <td>Expansion.Instantiation</td>\n",
       "      <td>NaN</td>\n",
       "      <td>Typically, money-fund yields beat comparable s...</td>\n",
       "    </tr>\n",
       "    <tr>\n",
       "      <th>32</th>\n",
       "      <td>Implicit</td>\n",
       "      <td>Expansion.Instantiation</td>\n",
       "      <td>NaN</td>\n",
       "      <td>The top money funds are currently yielding wel...</td>\n",
       "    </tr>\n",
       "    <tr>\n",
       "      <th>187</th>\n",
       "      <td>Implicit</td>\n",
       "      <td>Expansion.Instantiation</td>\n",
       "      <td>NaN</td>\n",
       "      <td>There were many pioneer PC contributors. Willi...</td>\n",
       "    </tr>\n",
       "    <tr>\n",
       "      <th>245</th>\n",
       "      <td>Implicit</td>\n",
       "      <td>Expansion.Instantiation</td>\n",
       "      <td>NaN</td>\n",
       "      <td>But some European funds recently have skyrocke...</td>\n",
       "    </tr>\n",
       "    <tr>\n",
       "      <th>...</th>\n",
       "      <td>...</td>\n",
       "      <td>...</td>\n",
       "      <td>...</td>\n",
       "      <td>...</td>\n",
       "    </tr>\n",
       "    <tr>\n",
       "      <th>40461</th>\n",
       "      <td>Implicit</td>\n",
       "      <td>Expansion.Instantiation</td>\n",
       "      <td>NaN</td>\n",
       "      <td>Analysts, who were expecting Alcoa to post aro...</td>\n",
       "    </tr>\n",
       "    <tr>\n",
       "      <th>40487</th>\n",
       "      <td>Implicit</td>\n",
       "      <td>Expansion.Instantiation</td>\n",
       "      <td>NaN</td>\n",
       "      <td>Such proclamations leave network officials all...</td>\n",
       "    </tr>\n",
       "    <tr>\n",
       "      <th>40493</th>\n",
       "      <td>Implicit</td>\n",
       "      <td>Expansion.Instantiation</td>\n",
       "      <td>NaN</td>\n",
       "      <td>But recent developments have made the networks...</td>\n",
       "    </tr>\n",
       "    <tr>\n",
       "      <th>40548</th>\n",
       "      <td>Implicit</td>\n",
       "      <td>Expansion.Instantiation</td>\n",
       "      <td>NaN</td>\n",
       "      <td>Intel's business is strong. Our bookings impro...</td>\n",
       "    </tr>\n",
       "    <tr>\n",
       "      <th>40560</th>\n",
       "      <td>Implicit</td>\n",
       "      <td>Expansion.Instantiation</td>\n",
       "      <td>NaN</td>\n",
       "      <td>the ANC, outlawed in South Africa since 1960 a...</td>\n",
       "    </tr>\n",
       "  </tbody>\n",
       "</table>\n",
       "<p>1398 rows × 4 columns</p>\n",
       "</div>"
      ],
      "text/plain": [
       "       Relation        ConnHeadSemClass1 ConnHeadSemClass2  \\\n",
       "29     Implicit  Expansion.Instantiation               NaN   \n",
       "31     Implicit  Expansion.Instantiation               NaN   \n",
       "32     Implicit  Expansion.Instantiation               NaN   \n",
       "187    Implicit  Expansion.Instantiation               NaN   \n",
       "245    Implicit  Expansion.Instantiation               NaN   \n",
       "...         ...                      ...               ...   \n",
       "40461  Implicit  Expansion.Instantiation               NaN   \n",
       "40487  Implicit  Expansion.Instantiation               NaN   \n",
       "40493  Implicit  Expansion.Instantiation               NaN   \n",
       "40548  Implicit  Expansion.Instantiation               NaN   \n",
       "40560  Implicit  Expansion.Instantiation               NaN   \n",
       "\n",
       "                                             FullRawText  \n",
       "29     Despite recent declines in yields, investors c...  \n",
       "31     Typically, money-fund yields beat comparable s...  \n",
       "32     The top money funds are currently yielding wel...  \n",
       "187    There were many pioneer PC contributors. Willi...  \n",
       "245    But some European funds recently have skyrocke...  \n",
       "...                                                  ...  \n",
       "40461  Analysts, who were expecting Alcoa to post aro...  \n",
       "40487  Such proclamations leave network officials all...  \n",
       "40493  But recent developments have made the networks...  \n",
       "40548  Intel's business is strong. Our bookings impro...  \n",
       "40560  the ANC, outlawed in South Africa since 1960 a...  \n",
       "\n",
       "[1398 rows x 4 columns]"
      ]
     },
     "execution_count": 8,
     "metadata": {},
     "output_type": "execute_result"
    }
   ],
   "source": [
    "a = implicit_rel[(implicit_rel['ConnHeadSemClass1'] == 'Expansion.Instantiation') | (implicit_rel['ConnHeadSemClass2'] == 'Expansion.Instantiation')]\n",
    "a[['Relation','ConnHeadSemClass1','ConnHeadSemClass2','FullRawText']]"
   ]
  },
  {
   "cell_type": "code",
   "execution_count": 12,
   "id": "f3bbd584",
   "metadata": {},
   "outputs": [
    {
     "data": {
      "text/html": [
       "<div>\n",
       "<style scoped>\n",
       "    .dataframe tbody tr th:only-of-type {\n",
       "        vertical-align: middle;\n",
       "    }\n",
       "\n",
       "    .dataframe tbody tr th {\n",
       "        vertical-align: top;\n",
       "    }\n",
       "\n",
       "    .dataframe thead th {\n",
       "        text-align: right;\n",
       "    }\n",
       "</style>\n",
       "<table border=\"1\" class=\"dataframe\">\n",
       "  <thead>\n",
       "    <tr style=\"text-align: right;\">\n",
       "      <th></th>\n",
       "      <th>Relation</th>\n",
       "      <th>ConnHeadSemClass1</th>\n",
       "      <th>ConnHeadSemClass2</th>\n",
       "      <th>FullRawText</th>\n",
       "    </tr>\n",
       "  </thead>\n",
       "  <tbody>\n",
       "    <tr>\n",
       "      <th>4</th>\n",
       "      <td>Implicit</td>\n",
       "      <td>Expansion.Restatement.Specification</td>\n",
       "      <td>NaN</td>\n",
       "      <td>This is an old story. We're talking about year...</td>\n",
       "    </tr>\n",
       "    <tr>\n",
       "      <th>14</th>\n",
       "      <td>Implicit</td>\n",
       "      <td>Expansion.Restatement.Specification</td>\n",
       "      <td>NaN</td>\n",
       "      <td>About 160 workers at a factory that made paper...</td>\n",
       "    </tr>\n",
       "    <tr>\n",
       "      <th>64</th>\n",
       "      <td>Implicit</td>\n",
       "      <td>Expansion.Restatement.Specification</td>\n",
       "      <td>NaN</td>\n",
       "      <td>South Korea's economic boom, which began in 19...</td>\n",
       "    </tr>\n",
       "    <tr>\n",
       "      <th>67</th>\n",
       "      <td>Implicit</td>\n",
       "      <td>Expansion.Restatement.Specification</td>\n",
       "      <td>NaN</td>\n",
       "      <td>Newsweek's ad rates would increase 5% in Janua...</td>\n",
       "    </tr>\n",
       "    <tr>\n",
       "      <th>73</th>\n",
       "      <td>Implicit</td>\n",
       "      <td>Expansion.Restatement.Specification</td>\n",
       "      <td>NaN</td>\n",
       "      <td>it will introduce the Circulation Credit Plan,...</td>\n",
       "    </tr>\n",
       "    <tr>\n",
       "      <th>...</th>\n",
       "      <td>...</td>\n",
       "      <td>...</td>\n",
       "      <td>...</td>\n",
       "      <td>...</td>\n",
       "    </tr>\n",
       "    <tr>\n",
       "      <th>40424</th>\n",
       "      <td>Implicit</td>\n",
       "      <td>Expansion.Restatement.Specification</td>\n",
       "      <td>NaN</td>\n",
       "      <td>By diversifying supply sources, the toy makers...</td>\n",
       "    </tr>\n",
       "    <tr>\n",
       "      <th>40425</th>\n",
       "      <td>Implicit</td>\n",
       "      <td>Expansion.Restatement.Specification</td>\n",
       "      <td>NaN</td>\n",
       "      <td>It wouldn't be easy to duplicate quickly the m...</td>\n",
       "    </tr>\n",
       "    <tr>\n",
       "      <th>40456</th>\n",
       "      <td>Implicit</td>\n",
       "      <td>Expansion.Restatement.Specification</td>\n",
       "      <td>NaN</td>\n",
       "      <td>The administration urged the justices to adopt...</td>\n",
       "    </tr>\n",
       "    <tr>\n",
       "      <th>40551</th>\n",
       "      <td>Implicit</td>\n",
       "      <td>Expansion.Restatement.Specification</td>\n",
       "      <td>NaN</td>\n",
       "      <td>Our bookings improved as the quarter progresse...</td>\n",
       "    </tr>\n",
       "    <tr>\n",
       "      <th>40593</th>\n",
       "      <td>Implicit</td>\n",
       "      <td>Expansion.Restatement.Specification</td>\n",
       "      <td>NaN</td>\n",
       "      <td>The men also will be faced with bridging the g...</td>\n",
       "    </tr>\n",
       "  </tbody>\n",
       "</table>\n",
       "<p>2468 rows × 4 columns</p>\n",
       "</div>"
      ],
      "text/plain": [
       "       Relation                    ConnHeadSemClass1 ConnHeadSemClass2  \\\n",
       "4      Implicit  Expansion.Restatement.Specification               NaN   \n",
       "14     Implicit  Expansion.Restatement.Specification               NaN   \n",
       "64     Implicit  Expansion.Restatement.Specification               NaN   \n",
       "67     Implicit  Expansion.Restatement.Specification               NaN   \n",
       "73     Implicit  Expansion.Restatement.Specification               NaN   \n",
       "...         ...                                  ...               ...   \n",
       "40424  Implicit  Expansion.Restatement.Specification               NaN   \n",
       "40425  Implicit  Expansion.Restatement.Specification               NaN   \n",
       "40456  Implicit  Expansion.Restatement.Specification               NaN   \n",
       "40551  Implicit  Expansion.Restatement.Specification               NaN   \n",
       "40593  Implicit  Expansion.Restatement.Specification               NaN   \n",
       "\n",
       "                                             FullRawText  \n",
       "4      This is an old story. We're talking about year...  \n",
       "14     About 160 workers at a factory that made paper...  \n",
       "64     South Korea's economic boom, which began in 19...  \n",
       "67     Newsweek's ad rates would increase 5% in Janua...  \n",
       "73     it will introduce the Circulation Credit Plan,...  \n",
       "...                                                  ...  \n",
       "40424  By diversifying supply sources, the toy makers...  \n",
       "40425  It wouldn't be easy to duplicate quickly the m...  \n",
       "40456  The administration urged the justices to adopt...  \n",
       "40551  Our bookings improved as the quarter progresse...  \n",
       "40593  The men also will be faced with bridging the g...  \n",
       "\n",
       "[2468 rows x 4 columns]"
      ]
     },
     "execution_count": 12,
     "metadata": {},
     "output_type": "execute_result"
    }
   ],
   "source": [
    "b = implicit_rel[(implicit_rel['ConnHeadSemClass1'] == 'Expansion.Restatement.Specification')|(implicit_rel['ConnHeadSemClass2'] == 'Expansion.Restatement.Specification')]\n",
    "b[['Relation','ConnHeadSemClass1','ConnHeadSemClass2','FullRawText']]"
   ]
  },
  {
   "cell_type": "code",
   "execution_count": 6,
   "id": "a1261060",
   "metadata": {},
   "outputs": [
    {
     "data": {
      "text/html": [
       "<div>\n",
       "<style scoped>\n",
       "    .dataframe tbody tr th:only-of-type {\n",
       "        vertical-align: middle;\n",
       "    }\n",
       "\n",
       "    .dataframe tbody tr th {\n",
       "        vertical-align: top;\n",
       "    }\n",
       "\n",
       "    .dataframe thead th {\n",
       "        text-align: right;\n",
       "    }\n",
       "</style>\n",
       "<table border=\"1\" class=\"dataframe\">\n",
       "  <thead>\n",
       "    <tr style=\"text-align: right;\">\n",
       "      <th></th>\n",
       "      <th>Relation</th>\n",
       "      <th>ConnHeadSemClass1</th>\n",
       "      <th>ConnHeadSemClass2</th>\n",
       "      <th>FullRawText</th>\n",
       "    </tr>\n",
       "  </thead>\n",
       "  <tbody>\n",
       "    <tr>\n",
       "      <th>4</th>\n",
       "      <td>Implicit</td>\n",
       "      <td>Expansion.Restatement.Specification</td>\n",
       "      <td>NaN</td>\n",
       "      <td>This is an old story. We're talking about year...</td>\n",
       "    </tr>\n",
       "    <tr>\n",
       "      <th>5</th>\n",
       "      <td>Implicit</td>\n",
       "      <td>Expansion.Conjunction</td>\n",
       "      <td>Comparison</td>\n",
       "      <td>We're talking about years ago before anyone he...</td>\n",
       "    </tr>\n",
       "    <tr>\n",
       "      <th>6</th>\n",
       "      <td>Implicit</td>\n",
       "      <td>Contingency.Cause.Result</td>\n",
       "      <td>NaN</td>\n",
       "      <td>Neither Lorillard nor the researchers who stud...</td>\n",
       "    </tr>\n",
       "    <tr>\n",
       "      <th>9</th>\n",
       "      <td>Implicit</td>\n",
       "      <td>Expansion.Conjunction</td>\n",
       "      <td>NaN</td>\n",
       "      <td>Among 33 men who worked closely with the subst...</td>\n",
       "    </tr>\n",
       "    <tr>\n",
       "      <th>10</th>\n",
       "      <td>Implicit</td>\n",
       "      <td>Expansion.Conjunction</td>\n",
       "      <td>NaN</td>\n",
       "      <td>Among 33 men who worked closely with the subst...</td>\n",
       "    </tr>\n",
       "    <tr>\n",
       "      <th>...</th>\n",
       "      <td>...</td>\n",
       "      <td>...</td>\n",
       "      <td>...</td>\n",
       "      <td>...</td>\n",
       "    </tr>\n",
       "    <tr>\n",
       "      <th>40589</th>\n",
       "      <td>Implicit</td>\n",
       "      <td>Contingency.Cause.Reason</td>\n",
       "      <td>NaN</td>\n",
       "      <td>if it does, Pretoria will use this as a reason...</td>\n",
       "    </tr>\n",
       "    <tr>\n",
       "      <th>40591</th>\n",
       "      <td>Implicit</td>\n",
       "      <td>Comparison.Contrast</td>\n",
       "      <td>NaN</td>\n",
       "      <td>In addition, the government is figuring that t...</td>\n",
       "    </tr>\n",
       "    <tr>\n",
       "      <th>40593</th>\n",
       "      <td>Implicit</td>\n",
       "      <td>Expansion.Restatement.Specification</td>\n",
       "      <td>NaN</td>\n",
       "      <td>The men also will be faced with bridging the g...</td>\n",
       "    </tr>\n",
       "    <tr>\n",
       "      <th>40594</th>\n",
       "      <td>Implicit</td>\n",
       "      <td>Contingency.Cause.Result</td>\n",
       "      <td>NaN</td>\n",
       "      <td>They never considered themselves to be anythin...</td>\n",
       "    </tr>\n",
       "    <tr>\n",
       "      <th>40597</th>\n",
       "      <td>Implicit</td>\n",
       "      <td>Contingency.Cause.Reason</td>\n",
       "      <td>NaN</td>\n",
       "      <td>We emphasize discipline because we know that t...</td>\n",
       "    </tr>\n",
       "  </tbody>\n",
       "</table>\n",
       "<p>16053 rows × 4 columns</p>\n",
       "</div>"
      ],
      "text/plain": [
       "       Relation                    ConnHeadSemClass1 ConnHeadSemClass2  \\\n",
       "4      Implicit  Expansion.Restatement.Specification               NaN   \n",
       "5      Implicit                Expansion.Conjunction        Comparison   \n",
       "6      Implicit             Contingency.Cause.Result               NaN   \n",
       "9      Implicit                Expansion.Conjunction               NaN   \n",
       "10     Implicit                Expansion.Conjunction               NaN   \n",
       "...         ...                                  ...               ...   \n",
       "40589  Implicit             Contingency.Cause.Reason               NaN   \n",
       "40591  Implicit                  Comparison.Contrast               NaN   \n",
       "40593  Implicit  Expansion.Restatement.Specification               NaN   \n",
       "40594  Implicit             Contingency.Cause.Result               NaN   \n",
       "40597  Implicit             Contingency.Cause.Reason               NaN   \n",
       "\n",
       "                                             FullRawText  \n",
       "4      This is an old story. We're talking about year...  \n",
       "5      We're talking about years ago before anyone he...  \n",
       "6      Neither Lorillard nor the researchers who stud...  \n",
       "9      Among 33 men who worked closely with the subst...  \n",
       "10     Among 33 men who worked closely with the subst...  \n",
       "...                                                  ...  \n",
       "40589  if it does, Pretoria will use this as a reason...  \n",
       "40591  In addition, the government is figuring that t...  \n",
       "40593  The men also will be faced with bridging the g...  \n",
       "40594  They never considered themselves to be anythin...  \n",
       "40597  We emphasize discipline because we know that t...  \n",
       "\n",
       "[16053 rows x 4 columns]"
      ]
     },
     "execution_count": 6,
     "metadata": {},
     "output_type": "execute_result"
    }
   ],
   "source": []
  },
  {
   "cell_type": "code",
   "execution_count": null,
   "id": "e441d315",
   "metadata": {},
   "outputs": [],
   "source": []
  }
 ],
 "metadata": {
  "colab": {
   "collapsed_sections": [],
   "name": "specificity_model.ipynb",
   "provenance": []
  },
  "kernelspec": {
   "display_name": "Python 3 (ipykernel)",
   "language": "python",
   "name": "python3"
  },
  "language_info": {
   "codemirror_mode": {
    "name": "ipython",
    "version": 3
   },
   "file_extension": ".py",
   "mimetype": "text/x-python",
   "name": "python",
   "nbconvert_exporter": "python",
   "pygments_lexer": "ipython3",
   "version": "3.9.12"
  }
 },
 "nbformat": 4,
 "nbformat_minor": 5
}
